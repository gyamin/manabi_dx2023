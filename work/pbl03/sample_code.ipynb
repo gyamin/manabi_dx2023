{
 "cells": [
  {
   "cell_type": "markdown",
   "metadata": {
    "id": "Kb-ZL8fkfGfr"
   },
   "source": [
    "# 工数予測　サンプルコード\n",
    "\n",
    "当サンプルコードは、”工数予測”のテーマのAI課題において、配布されたファイルを分析し、投稿ファイルを作成するまでの大まかな流れを、ソースコードや実行結果とともに示したものとなっています。詳細な分析を行う足がかりとしてご利用ください。 当サンプルコードは、以下のような流れで構成されています。\n",
    "\n",
    "1. 前分析\n",
    "1. モデリング\n",
    "1. 評価用データに対する予測\n",
    "1. 応募用結果ファイルの作成\n",
    "\n",
    "前分析ではデータを読み込んで可視化などを行い、データの規模感や目的変数の性質などを確認します。モデリングでは学習用データを用いて正味作業時間と付帯作業時間を予測するモデルを作成します。評価用データに対する予測では、評価期間に対応する正味作業時間と付帯作業時間を予測して、結果を出力します。応募用結果ファイルの作成では予測した正味作業時間と付帯作業時間をもとに投稿用のファイルを作成します。  \n",
    "\n",
    "必要なライブラリは以下です。\n",
    "\n",
    "- pandas\n",
    "- numpy\n",
    "- matplotlib\n",
    "- scikit-learn\n",
    "\n",
    "使用するデータは以下です。\n",
    "\n",
    "- actual_train.csv\n",
    "- processing_train.csv\n",
    "- base_train.csv\n",
    "- actual_test.csv\n",
    "- processing_test.csv\n",
    "\n",
    "サイトからダウンロードして当ノートブックと同じディレクトリに配置してください。なお、以下のようなフォルダ構成を前提としています。\n",
    "\n",
    "```\n",
    "PBL03（Colabの場合は\"DXQuest\"となっている想定）\n",
    "│  PBL03_sample_code.ipynb\n",
    "│  readme.md\n",
    "│  requirements.txt\n",
    "│  sample_submit.csv\n",
    "│\n",
    "├─test\n",
    "│      actual_test.csv\n",
    "│      base_test.csv\n",
    "│      processing_test.csv\n",
    "│\n",
    "└─train\n",
    "        actual_train.csv\n",
    "        base_train.csv\n",
    "        processing_train.csv\n",
    "```"
   ]
  },
  {
   "cell_type": "markdown",
   "metadata": {
    "id": "waIrdiZffGfu"
   },
   "source": [
    "## 0. 初期設定\n",
    "- こちらはColabを利用される際の初期設定となります。Colabを利用されない方はこちらの実行は不要です。"
   ]
  },
  {
   "cell_type": "code",
   "execution_count": null,
   "metadata": {
    "id": "JmDfYWD6fX2d"
   },
   "outputs": [],
   "source": [
    "from google.colab import drive\n",
    "drive.mount('/content/drive')"
   ]
  },
  {
   "cell_type": "markdown",
   "source": [
    "- ファイルパスの設定\n",
    "    - 利用される環境に応じて片方をコメントアウト、片方を実行する形で修正ください。\n",
    "    - 下記ではGoogle Colaboratoryで実行する想定としています。"
   ],
   "metadata": {
    "collapsed": false
   }
  },
  {
   "cell_type": "code",
   "execution_count": null,
   "metadata": {
    "id": "2KDxo--Efh2m"
   },
   "outputs": [],
   "source": [
    "import os\n",
    "\n",
    "## Google Colabを利用する場合\n",
    "path = '/content/drive/MyDrive/DXQuest/'\n",
    "\n",
    "## ローカルの場合\n",
    "# path = \"./\""
   ]
  },
  {
   "cell_type": "markdown",
   "metadata": {
    "id": "it5xNm-efGfv"
   },
   "source": [
    "## 1. 前分析"
   ]
  },
  {
   "cell_type": "markdown",
   "metadata": {
    "id": "izDQxLLSfGfw"
   },
   "source": [
    "まずデータの読み込みと可視化を行うために必要なライブラリをインポートします"
   ]
  },
  {
   "cell_type": "code",
   "execution_count": null,
   "metadata": {
    "id": "p72BX0f5fGfw"
   },
   "outputs": [],
   "source": [
    "import pandas as pd\n",
    "import matplotlib.pyplot as plt"
   ]
  },
  {
   "cell_type": "markdown",
   "metadata": {
    "id": "4pbreFgofGfx"
   },
   "source": [
    "### データの読み込みと中身の確認"
   ]
  },
  {
   "cell_type": "markdown",
   "metadata": {
    "id": "t-PSlmtxfGfx"
   },
   "source": [
    "基本データ、加工データ、実績データを読み込みます。"
   ]
  },
  {
   "cell_type": "code",
   "execution_count": 1,
   "metadata": {
    "id": "3Vn-9p1SfGfy",
    "ExecuteTime": {
     "end_time": "2023-09-13T11:43:34.833693Z",
     "start_time": "2023-09-13T11:43:34.387140Z"
    }
   },
   "outputs": [
    {
     "ename": "NameError",
     "evalue": "name 'pd' is not defined",
     "output_type": "error",
     "traceback": [
      "\u001B[0;31m---------------------------------------------------------------------------\u001B[0m",
      "\u001B[0;31mNameError\u001B[0m                                 Traceback (most recent call last)",
      "Cell \u001B[0;32mIn[1], line 1\u001B[0m\n\u001B[0;32m----> 1\u001B[0m base_train \u001B[38;5;241m=\u001B[39m \u001B[43mpd\u001B[49m\u001B[38;5;241m.\u001B[39mread_csv(path \u001B[38;5;241m+\u001B[39m \u001B[38;5;124m'\u001B[39m\u001B[38;5;124mtrain/base_train.csv\u001B[39m\u001B[38;5;124m'\u001B[39m)\n\u001B[1;32m      2\u001B[0m processing_train \u001B[38;5;241m=\u001B[39m pd\u001B[38;5;241m.\u001B[39mread_csv(path \u001B[38;5;241m+\u001B[39m \u001B[38;5;124m'\u001B[39m\u001B[38;5;124mtrain/processing_train.csv\u001B[39m\u001B[38;5;124m'\u001B[39m)\n\u001B[1;32m      3\u001B[0m actual_train \u001B[38;5;241m=\u001B[39m pd\u001B[38;5;241m.\u001B[39mread_csv(path \u001B[38;5;241m+\u001B[39m \u001B[38;5;124m'\u001B[39m\u001B[38;5;124mtrain/actual_train.csv\u001B[39m\u001B[38;5;124m'\u001B[39m)\n",
      "\u001B[0;31mNameError\u001B[0m: name 'pd' is not defined"
     ]
    }
   ],
   "source": [
    "base_train = pd.read_csv(path + 'train/base_train.csv')\n",
    "processing_train = pd.read_csv(path + 'train/processing_train.csv')\n",
    "actual_train = pd.read_csv(path + 'train/actual_train.csv')"
   ]
  },
  {
   "cell_type": "markdown",
   "metadata": {
    "id": "FPSWl8MofGfy"
   },
   "source": [
    "それぞれの行数や列数とデータ型などを確認します。"
   ]
  },
  {
   "cell_type": "code",
   "execution_count": null,
   "metadata": {
    "id": "bno99s08fGfy",
    "scrolled": true
   },
   "outputs": [],
   "source": [
    "base_train.info()"
   ]
  },
  {
   "cell_type": "code",
   "execution_count": null,
   "metadata": {
    "id": "0mwGgc4yfGfz",
    "scrolled": true
   },
   "outputs": [],
   "source": [
    "processing_train.info()"
   ]
  },
  {
   "cell_type": "code",
   "execution_count": null,
   "metadata": {
    "id": "dJZG81jufGfz",
    "scrolled": true
   },
   "outputs": [],
   "source": [
    "actual_train.info()"
   ]
  },
  {
   "cell_type": "markdown",
   "metadata": {
    "id": "HwBl_PXEfGfz"
   },
   "source": [
    "それぞれ行数や列数が多く、データ型も混在していて、欠損値も目立つことが分かります。"
   ]
  },
  {
   "cell_type": "markdown",
   "metadata": {
    "id": "mTKE9hChfGfz"
   },
   "source": [
    "### 目的変数の分布の確認"
   ]
  },
  {
   "cell_type": "markdown",
   "metadata": {
    "id": "fWrCdDZsfGfz"
   },
   "source": [
    "目的変数は正味作業時間と付帯作業時間です。これらは実績データの中に存在し、それぞれカラム名は\"作業時間\"と\"合計時間\"となります。まずはそれぞれの基礎統計量を確認します。"
   ]
  },
  {
   "cell_type": "code",
   "execution_count": null,
   "metadata": {
    "id": "Qj6HyVQJfGf0"
   },
   "outputs": [],
   "source": [
    "actual_train[['作業時間', '合計時間']].describe()"
   ]
  },
  {
   "cell_type": "markdown",
   "metadata": {
    "id": "QalAHq4mfGf0"
   },
   "source": [
    "作業時間に0や合計時間に負の値の存在が認められます。"
   ]
  },
  {
   "cell_type": "markdown",
   "metadata": {
    "id": "dJcXK4odfGf0"
   },
   "source": [
    "\"作業日\"を日付データに変換し、2020-02-04以降の\"合計時間\"が意味を持つ(付帯作業時間に対応)レコードのみ抽出します。  \n",
    "また、評価対象となる\"号機名\"はグルアー、2号機、4号機、6号機、7号機、8号機です。それらのレコードのみ抽出します。  \n",
    "さらに0や負の値などを除外したデータを改めて作成します。"
   ]
  },
  {
   "cell_type": "code",
   "execution_count": 1,
   "metadata": {
    "id": "RHyCO_-yfGf0",
    "ExecuteTime": {
     "end_time": "2023-09-13T11:51:05.982348Z",
     "start_time": "2023-09-13T11:51:05.534506Z"
    }
   },
   "outputs": [
    {
     "ename": "NameError",
     "evalue": "name 'pd' is not defined",
     "output_type": "error",
     "traceback": [
      "\u001B[0;31m---------------------------------------------------------------------------\u001B[0m",
      "\u001B[0;31mNameError\u001B[0m                                 Traceback (most recent call last)",
      "Cell \u001B[0;32mIn[1], line 1\u001B[0m\n\u001B[0;32m----> 1\u001B[0m actual_train[\u001B[38;5;124m'\u001B[39m\u001B[38;5;124m作業日\u001B[39m\u001B[38;5;124m'\u001B[39m] \u001B[38;5;241m=\u001B[39m \u001B[43mpd\u001B[49m\u001B[38;5;241m.\u001B[39mto_datetime(actual_train[\u001B[38;5;124m'\u001B[39m\u001B[38;5;124m作業日\u001B[39m\u001B[38;5;124m'\u001B[39m])\n\u001B[1;32m      2\u001B[0m actual_filtered \u001B[38;5;241m=\u001B[39m actual_train[actual_train[\u001B[38;5;124m'\u001B[39m\u001B[38;5;124m号機名\u001B[39m\u001B[38;5;124m'\u001B[39m]\u001B[38;5;241m.\u001B[39misin([\u001B[38;5;124m'\u001B[39m\u001B[38;5;124mグルアー\u001B[39m\u001B[38;5;124m'\u001B[39m,\u001B[38;5;124m'\u001B[39m\u001B[38;5;124m2号機\u001B[39m\u001B[38;5;124m'\u001B[39m,\u001B[38;5;124m'\u001B[39m\u001B[38;5;124m4号機\u001B[39m\u001B[38;5;124m'\u001B[39m,\u001B[38;5;124m'\u001B[39m\u001B[38;5;124m6号機\u001B[39m\u001B[38;5;124m'\u001B[39m,\u001B[38;5;124m'\u001B[39m\u001B[38;5;124m7号機\u001B[39m\u001B[38;5;124m'\u001B[39m,\u001B[38;5;124m'\u001B[39m\u001B[38;5;124m8号機\u001B[39m\u001B[38;5;124m'\u001B[39m])]\n\u001B[1;32m      3\u001B[0m actual_filtered \u001B[38;5;241m=\u001B[39m actual_filtered[actual_filtered[\u001B[38;5;124m'\u001B[39m\u001B[38;5;124m作業日\u001B[39m\u001B[38;5;124m'\u001B[39m]\u001B[38;5;241m>\u001B[39m\u001B[38;5;241m=\u001B[39m\u001B[38;5;124m'\u001B[39m\u001B[38;5;124m2020-02-04\u001B[39m\u001B[38;5;124m'\u001B[39m]\n",
      "\u001B[0;31mNameError\u001B[0m: name 'pd' is not defined"
     ]
    }
   ],
   "source": [
    "actual_train['作業日'] = pd.to_datetime(actual_train['作業日'])\n",
    "actual_filtered = actual_train[actual_train['号機名'].isin(['グルアー','2号機','4号機','6号機','7号機','8号機'])]\n",
    "actual_filtered = actual_filtered[actual_filtered['作業日']>='2020-02-04']\n",
    "actual_filtered = actual_filtered[(actual_filtered['作業時間']>0)&(actual_filtered['合計時間']>0)]\n",
    "print(actual_filtered.shape)"
   ]
  },
  {
   "cell_type": "markdown",
   "metadata": {
    "id": "Nf_Zf09SfGf0"
   },
   "source": [
    "データが絞られたのが分かります。"
   ]
  },
  {
   "cell_type": "markdown",
   "metadata": {
    "id": "W6UVqviofGf0"
   },
   "source": [
    "まず正味作業時間の分布を確認してみます。"
   ]
  },
  {
   "cell_type": "code",
   "execution_count": null,
   "metadata": {
    "id": "ap0X3zCDfGf0"
   },
   "outputs": [],
   "source": [
    "plt.hist(actual_filtered['作業時間'], bins=100)\n",
    "plt.show()"
   ]
  },
  {
   "cell_type": "markdown",
   "metadata": {
    "id": "ksL4yGBHfGf1"
   },
   "source": [
    "続いて付帯作業時間の分布を確認してみます。"
   ]
  },
  {
   "cell_type": "code",
   "execution_count": null,
   "metadata": {
    "id": "jQgA7Ur4fGf1"
   },
   "outputs": [],
   "source": [
    "plt.hist(actual_filtered['合計時間'], bins=100)\n",
    "plt.show()"
   ]
  },
  {
   "cell_type": "markdown",
   "metadata": {
    "id": "1QGyjYCMfGf1"
   },
   "source": [
    "両者ともに形は似ていて、大きく左に寄っていることが分かります。"
   ]
  },
  {
   "cell_type": "markdown",
   "metadata": {
    "id": "LFz6kKg-fGf1"
   },
   "source": [
    "改めて基礎統計量も見てみます。"
   ]
  },
  {
   "cell_type": "code",
   "execution_count": null,
   "metadata": {
    "id": "IVic-ugZfGf1"
   },
   "outputs": [],
   "source": [
    "actual_filtered[['作業時間','合計時間']].describe()"
   ]
  },
  {
   "cell_type": "markdown",
   "metadata": {
    "id": "CqFPGwNHfGf1"
   },
   "source": [
    "付帯作業時間（合計時間）のほうが比較的長い傾向にあるようです。もう少しデータをフィルタリングしたらまた違った性質が見えてくるかもしれません。色々なフィルタリングの仕方を考え、データを眺めてみましょう。"
   ]
  },
  {
   "cell_type": "markdown",
   "metadata": {
    "id": "kjaDVsiPfGf1"
   },
   "source": [
    "## 2. モデリング"
   ]
  },
  {
   "cell_type": "markdown",
   "metadata": {
    "id": "8T0rBgb2fGf1"
   },
   "source": [
    "続いて、正味作業時間と付帯作業時間を予測するモデルを構築します。"
   ]
  },
  {
   "cell_type": "markdown",
   "metadata": {
    "id": "0r6QSjTlfGf1"
   },
   "source": [
    "### 学習データの作成"
   ]
  },
  {
   "cell_type": "markdown",
   "metadata": {
    "id": "0ijZu5BUfGf1"
   },
   "source": [
    "まずはモデルに学習させるデータを作成します。説明変数としては直接作業に影響があると思われる加工データの\"数量1\"を用いることにします。  \n",
    "まず、目的変数と説明変数が並ぶように加工データと実績データを統合します。キーは\"受注番号\"と\"号機名\"です。  \n",
    "また、\"合計時間\"が意味を持つレコードに絞り、関係する変数のみ抜き出します。"
   ]
  },
  {
   "cell_type": "code",
   "execution_count": null,
   "metadata": {
    "id": "OVLWXLyvfGf1"
   },
   "outputs": [],
   "source": [
    "train_merged = pd.merge(processing_train, actual_train, on = ['受注番号','号機名'])\n",
    "train_merged = train_merged[train_merged['作業日']>='2020-02-04']\n",
    "train_data = train_merged[['受注番号', '号機名', '作業日','数量1', '作業時間', '合計時間']]"
   ]
  },
  {
   "cell_type": "markdown",
   "metadata": {
    "id": "6yU_N9VEfGf2"
   },
   "source": [
    "評価対象となる\"号機名\"はグルアー、2号機、4号機、6号機、7号機、8号機なので、\"号機名\"はそれらに絞ります。\"作業時間\"や\"合計時間\"が0や負のレコードも除外します。"
   ]
  },
  {
   "cell_type": "code",
   "execution_count": null,
   "metadata": {
    "id": "r0KrwH-FfGf2"
   },
   "outputs": [],
   "source": [
    "train_data = train_data[train_data['号機名'].isin(['グルアー','2号機','4号機','6号機','7号機','8号機'])]\n",
    "train_data = train_data[(train_data['作業時間']>0)&(train_data['合計時間']>0)]\n",
    "train_data.info()"
   ]
  },
  {
   "cell_type": "markdown",
   "metadata": {
    "id": "Splgdgg6fGf2"
   },
   "source": [
    "モデルに学習させるデータは数値である必要があります。  \n",
    "\"数量1\"には文字列が含まれる(Dtypeがobjectとなっている)ようなので、全て数値データに変換します。"
   ]
  },
  {
   "cell_type": "code",
   "execution_count": null,
   "metadata": {
    "id": "EU_zXi66fGf2"
   },
   "outputs": [],
   "source": [
    "train_data['数量1'] = train_data['数量1'].astype(float)\n",
    "train_data.info()"
   ]
  },
  {
   "cell_type": "markdown",
   "metadata": {
    "id": "aMqBLHsjfGf2"
   },
   "source": [
    "### モデルの学習"
   ]
  },
  {
   "cell_type": "markdown",
   "metadata": {
    "id": "E7p9Wds7fGf2"
   },
   "source": [
    "作成した学習データで説明変数が\"数量1\"で目的変数が正味作業時間と付帯作業時間となるようなモデルを学習させます。今回は線形回帰モデルを用います。"
   ]
  },
  {
   "cell_type": "code",
   "execution_count": null,
   "metadata": {
    "id": "cmD_QJLQfGf2"
   },
   "outputs": [],
   "source": [
    "from sklearn import linear_model\n",
    "\n",
    "regr = linear_model.LinearRegression()"
   ]
  },
  {
   "cell_type": "markdown",
   "metadata": {
    "id": "4W7vfgKSfGf2"
   },
   "source": [
    "学習データから改めて学習用と検証用のデータを作成します。  \n",
    "\"作業日\"が2020-06-01以前を学習用、以降を検証用とします。"
   ]
  },
  {
   "cell_type": "code",
   "execution_count": null,
   "metadata": {
    "id": "4g9hJ7hHfGf2"
   },
   "outputs": [],
   "source": [
    "train_all = train_data[train_data['作業日']<'2020-06-01']\n",
    "val_all = train_data[train_data['作業日']>='2020-06-01']"
   ]
  },
  {
   "cell_type": "markdown",
   "metadata": {
    "id": "6TJwmOzRfGf2"
   },
   "source": [
    "学習用でモデルを学習させます。"
   ]
  },
  {
   "cell_type": "code",
   "execution_count": null,
   "metadata": {
    "id": "nBMB63bIfGf3"
   },
   "outputs": [],
   "source": [
    "regr.fit(train_all[['数量1']], train_all[['作業時間', '合計時間']])"
   ]
  },
  {
   "cell_type": "markdown",
   "metadata": {
    "id": "1E7YkiHJfGf3"
   },
   "source": [
    "### モデルの精度評価"
   ]
  },
  {
   "cell_type": "markdown",
   "metadata": {
    "id": "ldAq9xHRfGf3"
   },
   "source": [
    "検証用でモデルの精度を確認します。  \n",
    "今回はMAE(mean absolute error)により正味作業時間(\"作業時間\")と付帯作業時間(\"合計時間\")の精度を評価します。"
   ]
  },
  {
   "cell_type": "code",
   "execution_count": null,
   "metadata": {
    "colab": {
     "base_uri": "https://localhost:8080/"
    },
    "id": "1N63VPiIfGf3",
    "outputId": "78060ad7-2b1c-4181-b3c3-198be3f16bfc"
   },
   "outputs": [
    {
     "output_type": "stream",
     "name": "stdout",
     "text": [
      "正味作業時間のMAE: 9.952812099542541\n",
      "付帯作業時間のMAE: 18.54542886954304\n"
     ]
    }
   ],
   "source": [
    "import numpy as np\n",
    "\n",
    "y_hat = regr.predict(val_all[['数量1']])\n",
    "print('正味作業時間のMAE:', np.abs(val_all['作業時間']-y_hat[:,0]).mean())\n",
    "print('付帯作業時間のMAE:', np.abs(val_all['合計時間']-y_hat[:,1]).mean())"
   ]
  },
  {
   "cell_type": "markdown",
   "metadata": {
    "id": "nl5Hvzx9fGf3"
   },
   "source": [
    "予実プロットを作成してみます。まずは正味作業時間です。"
   ]
  },
  {
   "cell_type": "code",
   "execution_count": null,
   "metadata": {
    "id": "yggendUAfGf3"
   },
   "outputs": [],
   "source": [
    "fig, ax = plt.subplots(figsize=(4, 4), dpi=90)\n",
    "ax.set_xlabel('prediction', fontsize=10)\n",
    "ax.set_ylabel('ground truth', fontsize=10)\n",
    "ax.set_yscale(\"linear\")\n",
    "ax.plot([i for i in range(int(val_all['作業時間'].max()))],[i for i in range(int(val_all['作業時間'].max()))], color='red')\n",
    "ax.scatter(y_hat[:,0], val_all['作業時間'])\n",
    "ax.grid()\n",
    "ax.set_aspect('equal')\n",
    "plt.show()"
   ]
  },
  {
   "cell_type": "markdown",
   "metadata": {
    "id": "98uXFFrKfGf3"
   },
   "source": [
    "赤い線に近い点が多ければ多いほど精度が高いことを表します。そこそこ当てられているようです。"
   ]
  },
  {
   "cell_type": "markdown",
   "metadata": {
    "id": "BuuylzGFfGf3"
   },
   "source": [
    "続いて付帯作業時間です。"
   ]
  },
  {
   "cell_type": "code",
   "execution_count": null,
   "metadata": {
    "id": "zw4OKmWMfGf3"
   },
   "outputs": [],
   "source": [
    "fig, ax = plt.subplots(figsize=(4, 4), dpi=90)\n",
    "ax.set_xlabel('prediction', fontsize=10)\n",
    "ax.set_ylabel('ground truth', fontsize=10)\n",
    "ax.set_yscale(\"linear\")\n",
    "ax.plot([i for i in range(int(val_all['合計時間'].max()))],[i for i in range(int(val_all['合計時間'].max()))], color='red')\n",
    "ax.scatter(y_hat[:,1], val_all['合計時間'])\n",
    "ax.grid()\n",
    "ax.set_aspect('equal')\n",
    "plt.show()"
   ]
  },
  {
   "cell_type": "markdown",
   "metadata": {
    "id": "6_ha3qj7fGf3"
   },
   "source": [
    "付帯作業時間は当てるのが難しそうです。"
   ]
  },
  {
   "cell_type": "markdown",
   "metadata": {
    "id": "X7q8PrjBfGf3"
   },
   "source": [
    "余裕があれば他の機械学習モデルを試してみましょう。"
   ]
  },
  {
   "cell_type": "markdown",
   "metadata": {
    "id": "YXuawwBBfGf3"
   },
   "source": [
    "## 3. 評価用データに対する予測"
   ]
  },
  {
   "cell_type": "markdown",
   "metadata": {
    "id": "7Nd-5jo5fGf3"
   },
   "source": [
    "学習したモデルを用いて、評価用データに対して正味作業時間と付帯作業時間を出力します。  \n",
    "まず作成した学習用データと同様の評価用データを作成します。"
   ]
  },
  {
   "cell_type": "code",
   "execution_count": null,
   "metadata": {
    "id": "kbYzftftfGf3"
   },
   "outputs": [],
   "source": [
    "processing_test = pd.read_csv(path + 'test/processing_test.csv')\n",
    "actual_test = pd.read_csv(path + 'test/actual_test.csv')\n",
    "test_merged = pd.merge(actual_test, processing_test)\n",
    "test_data = test_merged[['index','受注番号','号機名','数量1']]\n",
    "test_data.info()"
   ]
  },
  {
   "cell_type": "markdown",
   "metadata": {
    "id": "2o4KePvUfGf3"
   },
   "source": [
    "\"数量1\"が数値データ(Dtypeがfloat)となっていることが確認できます。  \n",
    "作成したデータに対して予測を行います。"
   ]
  },
  {
   "cell_type": "code",
   "execution_count": null,
   "metadata": {
    "id": "ToImUajJfGf4"
   },
   "outputs": [],
   "source": [
    "y_hat = regr.predict(test_data[['数量1']])"
   ]
  },
  {
   "cell_type": "markdown",
   "source": [
    "## 4. 応募用結果ファイルの作成"
   ],
   "metadata": {
    "collapsed": false
   }
  },
  {
   "cell_type": "markdown",
   "metadata": {
    "id": "UxCa03jifGf4"
   },
   "source": [
    "得られた結果を応募用ファイルのフォーマットに合わせます。フォーマットは以下のようにします。  \n",
    "\n",
    "|index|正味作業時間|付帯作業時間|\n",
    "|----|----|----|\n",
    "|0|予測0_0|予測1_0|\n",
    "|...|...|...|\n",
    "|5982|予測0_5982|予測1_5982|"
   ]
  },
  {
   "cell_type": "code",
   "execution_count": null,
   "metadata": {
    "id": "W2aD_HcTfGf4"
   },
   "outputs": [],
   "source": [
    "submit = pd.DataFrame({'index':test_data['index'], '正味作業時間':y_hat[:,0], '付帯作業時間':y_hat[:,1]})"
   ]
  },
  {
   "cell_type": "markdown",
   "metadata": {
    "id": "rvv64T-vfGf4"
   },
   "source": [
    "ヘッダーはなしなので、含まないように注意します。また、DataFrameが持っているindexも除外する必要があります(4列のデータになってしまうため)。"
   ]
  },
  {
   "cell_type": "code",
   "execution_count": null,
   "metadata": {
    "id": "jcV2yLiLfGf4"
   },
   "outputs": [],
   "source": [
    "submit.to_csv(path + 'my_submission.csv', index=None, header=False)"
   ]
  },
  {
   "cell_type": "markdown",
   "metadata": {
    "id": "NqMmZGx9fGf4"
   },
   "source": [
    "作成した\"my_submission.csv\"が最終的な応募用結果ファイルとなります。  \n",
    "モデリングなどで試行錯誤して繰り返し投稿をして、スコアを最適化しましょう。"
   ]
  }
 ],
 "metadata": {
  "colab": {
   "provenance": []
  },
  "kernelspec": {
   "display_name": "Python 3 (ipykernel)",
   "language": "python",
   "name": "python3"
  },
  "language_info": {
   "codemirror_mode": {
    "name": "ipython",
    "version": 3
   },
   "file_extension": ".py",
   "mimetype": "text/x-python",
   "name": "python",
   "nbconvert_exporter": "python",
   "pygments_lexer": "ipython3",
   "version": "3.9.12"
  }
 },
 "nbformat": 4,
 "nbformat_minor": 0
}
